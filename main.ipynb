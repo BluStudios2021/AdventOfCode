{
 "cells": [
  {
   "cell_type": "code",
   "execution_count": 24,
   "metadata": {},
   "outputs": [],
   "source": [
    "with open(\"./input.txt\", \"r\") as f:\n",
    "    lines = f.read().splitlines()\n",
    "\n",
    "moves = []\n",
    "for line in lines:\n",
    "    direction, length = line.split(\" \")\n",
    "    moves.append([direction, int(length)])"
   ]
  },
  {
   "cell_type": "code",
   "execution_count": 26,
   "metadata": {},
   "outputs": [
    {
     "name": "stdout",
     "output_type": "stream",
     "text": [
      "6494\n"
     ]
    }
   ],
   "source": [
    "posH = [0, 0]\n",
    "posT = [0, 0]\n",
    "\n",
    "directions = {\"L\": -1, \"R\": 1, \"U\": 1, \"D\": -1}\n",
    "\n",
    "tailPositions = []\n",
    "\n",
    "for move in moves:\n",
    "    if move[0] in [\"L\", \"R\"]:\n",
    "        for i in range(move[1]):\n",
    "            posH[0] += directions[move[0]]\n",
    "            dX = posH[0] - posT[0]\n",
    "            dY = posH[1] - posT[1]\n",
    "            if dX == 2:\n",
    "                posT[0] += 1\n",
    "                posT[1] += dY\n",
    "            if dX == -2:\n",
    "                posT[0] -= 1\n",
    "                posT[1] += dY\n",
    "            tailPositions.append(tuple(posT))\n",
    "    if move[0] in [\"U\", \"D\"]:\n",
    "        for i in range(move[1]):\n",
    "            posH[1] += directions[move[0]]\n",
    "            dX = posH[0] - posT[0]\n",
    "            dY = posH[1] - posT[1]\n",
    "            if dY == 2:\n",
    "                posT[1] += 1\n",
    "                posT[0] += dX\n",
    "            if dY == -2:\n",
    "                posT[1] -= 1\n",
    "                posT[0] += dX\n",
    "            tailPositions.append(tuple(posT))\n",
    "\n",
    "print(len(set(tailPositions)))"
   ]
  }
 ],
 "metadata": {
  "kernelspec": {
   "display_name": "Python 3",
   "language": "python",
   "name": "python3"
  },
  "language_info": {
   "codemirror_mode": {
    "name": "ipython",
    "version": 3
   },
   "file_extension": ".py",
   "mimetype": "text/x-python",
   "name": "python",
   "nbconvert_exporter": "python",
   "pygments_lexer": "ipython3",
   "version": "3.11.0"
  },
  "orig_nbformat": 4,
  "vscode": {
   "interpreter": {
    "hash": "e7370f93d1d0cde622a1f8e1c04877d8463912d04d973331ad4851f04de6915a"
   }
  }
 },
 "nbformat": 4,
 "nbformat_minor": 2
}
