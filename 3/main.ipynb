{
 "cells": [
  {
   "cell_type": "code",
   "execution_count": 21,
   "metadata": {},
   "outputs": [
    {
     "name": "stdout",
     "output_type": "stream",
     "text": [
      "['BzRmmzZHzVBzgVQmZLPtqqffPqWqJmPLlL', 'hpvvTDcrCjhpcrvcGGhfLHMlLtMCqflNlWPJlJ', 'hGjhncHhGnhbTHczBBZVVSbRwgSgRV', 'rWVQjPQQjGRWNSrWrPjcptwBpqqJBtJBBcZgMdtq', 'zzmmpzfTCFpTlMlJJwBgMlqMBt', 'TvLszpbhhTLmsnRQPDQGWDWRvQSR', 'zGzvLlGlQHLGBQZlhBWhdjRdmdWRcjPj', 'fTJNfTfNSRWPhjdjfj', 'pbsbVVnpSnbVTprnbqqrzvLLgQlGLPLHll', 'ZCCCsWvNvmsCsCmZLZmgMLRpQMhwQRpQRfphfprpTfpM', 'tlncPjzlndctbzcPPBcjwDphwrfGGDffbDRpDTGG', 'cdqnddwzqjNVWVLZZLZq', 'DTLbDbRrlQbwhhNrmmfwdt', 'zzMJMzjCjJJjvLjMPJpcgPpzfhHdfqWcqddwtwfqdttcNtdN', 'pJCzVpCvDZBLsVRQ', 'STzBBbJzRRBZBRTqCCsfZLtNNLClCsfh', 'jsQnnQjjHcvQFrcPwCmtLCNlvDfftfff', 'sGFscMQQMMpqzqbMbd', 'QlNDWGsjQjgQllWQsbtzqTJczTJcbFmmFJJP', 'MhLrhgLVndRmzJFzVqqJqP', 'pSLnMdwhwdRZRSwhLZwLhdGWQjlsgWjNQWWSvgBsWDlj', 'THjSRFSddTjdBTcPLcVVvVBw', 'GzWnWfndWfznDfsnsBsPVwVwPPLL', 'zNflzJWqqzQDdSStHNZNpFFtbj', 'FSzDmsFSFlDlBzqVjqHHjHHpVgHLbp', 'rTrTtTQQntRQnQJQgggHZttVgHLBLhZL', 'WTJJRRQCRRJTRdBCRdvRNDFSWFMPmDlPPSsNPSzS', 'WQldlMtMVQgVMQHnDGbHGGnRnQmD', 'rqcZPrCFjmHlbGjZ', 'zSScchqwchBzTzFzhhSlcCwNtdVWWJgsVdMtWNgNVWTJTd', 'lMZqjMWllrTTspjprWWSSwgWNSVNDmWGVwFwgN', 'cdCCdLHcnndHJnmCRntLBnRzDvFNtNDVzgSgwDgFNVzFVv', 'BRLcCCJCmJdcRhfjPPZphrlrPqlZ', 'GdGqcrrZGDrvDJJqJHcBvmFFgmFMMgMgBtMLTssLmF', 'NbPVPDlljPmTmsTj', 'VfQDhflCCRWdcrQwJvvnJv', 'RLcWgLCqqPQLcqZwzHgwmmrmmtgwTw', 'DhbhNrMpnJSDJwVTHmmTVnTTVj', 'lrsvblMDlcWcfQPQ', 'PVldlphHwGwJJGdjZZWsRbbsGsNWrWQbNbQR', 'SqcDvTmDLtfmSmtqppfqzTgTQBrRQsbCFWbNNFQFBBrRbLNb', 'MgtmTgtfpqVlnVddZMwV', 'BdmfmPBPSbSNdGSdvWrwcZrccZPPcZnH', 'jzzLsjsMRlQQVHwswvvZrCHrrT', 'VqhzVFzplFlpLwpMphLRQQVRmSqgbdGtNJBmNSmgGbtggSgt', 'DHVpNZjdZjFZWVFHpvFvzmlRzPnlfznFRz', 'lrTBTsBwwMbrrwLPPfwGmGzvRf', 'scrtMhMCtJBBBclbHdHttWZWDSqDSjHj', 'wzqsPmqsbsfqBwPMNRMMZcZmFFNtZM', 'CgCnhlvvLJgcRFNNBdCpWM', 'QnQrVgHSvVHjbjTGBbbTHb', 'HdrVrdqFDdZVmHgRmDRFHMnTdTssMGnLnPJLbPTbCs', 'SczlScjwcNzplNzQSSfjwQSrTGGsbTsnTCnGTMCMLMGGbN', 'wQlfjrhfhQFHqZhRZRtD', 'RsfJDGJvzPNcjpddSWJWMd', 'LLCbBCwCrCmVVnrmhQFmbVhdcdlWpjZzSpMdWSpcWczSBj', 'rrLCbTwnHTvzvNGT', 'wPhPhbCqqSCrtJDlqvlrJr', 'RVVZddLFRZZcQLvJJtzptlgPJp', 'TVQRZGVncFdTGWZdCNShHhfPNwwsWPwb', 'dzLVzPSgrgDDDCMSMLLPwFmdTTcsvmwNwjNsHcFF', 'nWBGntQfGNGBflWBBqlpRQGbWFvjwsbsFswbvTHjjbmHTc', 'tBNJBnGBflQnDPJrPhDgrPVg', 'VtWztWtqpqzWpWzqjNRjNpWTmrrmrSbnmJwSJwnMPrCSJVwM', 'sDHsBDhBdsBZGcHvLHDLhhCSnRSwCJMZrPbmnMbJSCSR', 'ccLRhgsLBdRsdHNTFFNNgqTglqzF', 'hztlmDhPhgPlPNNgmZMCbmwwQjcwjjwMjVCd', 'RSJRrRqnqQJFqvnTGrHCcHHCCHHbHHMcMvdM', 'qGJsnQTRsStsftPlhPNl', 'BFFBLPRCwsLwhlPlRmhcGGrbmmGjfNTTnp', 'VJMVpzgqggJnrjmjNcMjmT', 'VqdSZtQgZvtdzqHqHtVZdVQpCDWWFdwlRPDpWPPBCswlWD', 'fCWCsjPzcbzwRSzVTzhhDLqvdg', 'TmJtrNJrBLSLJqgS', 'ptNTQFHrZlnpFPwsWMbRjCpcjR', 'nJmQNCmbmlllmbClbfMLjMFqbGBsdLFq', 'ZcgTWcTnMqqMTBqF', 'tPgctSnPctZZgDWzZgQHwNmHlhlmzlQhlJlw', 'ZpTCwpffdslvgShCBhqhRz', 'FDMPnNFNmBPzvRPRBg', 'nNgMrnnDGjDmJMmnFdZTTsdsrZrslcwcQr', 'pTmczpCldcdDDnPttpvWSqbpJf', 'jgjRZMGHhGLgQrjvPWzPJgJvzStbbq', 'LGNLLNBBzcDFCBwwFC', 'nJTTqnrNvTzNMzzNfqrTPrJnwpwPpZpsHccZVsBRpcVHwpcp', 'bgDhgbghLWmFmStctVpZtBCVCCpfZp', 'LLSgLGSjggFGbSSbmMnrvqvzjfzTNrJrqM', 'RRpDmmPMTjwfGmJQgQ', 'WsNscdnvvdVZFVnnrZbjjflwljlbzfGFjQjq', 'NnLZsNnrrVVVcvdBLTPCPCRMwhPMBMPhCt', 'lbVvzngGJnVbJHpHtHNPpdSQvc', 'TsMBswFZsWMWBZMNwPtNNtRNHcNpSQ', 'CcZCTrZDsjZTsTsshWhrWrTnfgbLDfJzVVLVVlgfnzfVGV', 'JzTTRtJRZWmWjrMHCT', 'DDFGlLGcGlSSSLsFGBspPBmNMBHMghmWNmWjWCmWtH', 'nSSpnbsGlLDnpPsSSspFtVvffRQdVzqvvbqdfVQwRz', 'sMhzszlHHDsWbthHDqsbJjpLNtmjVJmVLLVLVLBp', 'nrTPrGwfPLdprzJzdL', 'wgPQcTGGzgccwCgnRwgRChFhlWSDqWWQMWhssSsMQl', 'NSNmwtpSpCpvMphCsr', 'PHcRGPLJMrsvzsqG', 'QHjbnRMcfbPbQZmlZgZlgBBQ', 'cPRPbhQjbQRdtPQdLqLHqzFZjCFCqLjC', 'mmfsnnwrfvwrfSNZFzHHLDCFNlLlqDlN', 'wsmrwswwGTffMrBnmQttJtcMZQQtPJPbZc', 'MvBPDDRRdnnvHPCHZLHZsFLL', 'rmJcbVqbcjWwWjQHLzTZFTHSzFrpsz', 'cmwllVqqGJbVVVmmqbQcmgRnRvGhGfgDRDZBBBvRdd', 'nMvMhMnvhnbTZWSSZgHmGJDFmmNDzBmbNmdGBN', 'rCsPLRCssRjrLLsrLlwRVrcNJQfDQfdBmmfNBGJNzmDPfB', 'CRjCpLltgtJgJJWq', 'jshCzJpjzTPpmCWvSlpfwHfSWglf', 'LQMMNMnHtDtLVRvwwgRWlldgWD', 'qHVrQNHVMFQtrrBBQMBcrrZsZbzCZhbbJZJsmmsmFPTC', 'JZQZnsQNMqTngZqJBVfBfPPVBNrwvfPw', 'SSmDstFjpDpCszDjcLLhrPVlGlrGGVBwrvwVPt', 'FSssFcLjFjbmFFCzjLcFLRDnMJnTHRnZZTdWqZZWnMnRnZ', 'GbHRHpldwGMpWhHpCMBlCbRdVSLhnqJLSrDPLPPLPDqVDrhh', 'gvjWWQvgZFtQFFNqLnVnDnSJzzztDD', 'ZccccfTsffHdWWdRWwsw', 'ClCtbHMlnnPPlszV', 'gSDWSLgWQWQJJNWqgtQjPsnfcdVcLVdVdzfzVzff', 'WQgqtFQgDgQSFqJhqhSJvNDRrZMZHwHMCbZhTpZbGHMTMG', 'pZJZlCQtHFhPfdNfCh', 'zcmLSVczwcMcLDNFHdLPhPWH', 'szvVVnBmnTGQtHTQ', 'RVVCNDlNGzlGZqHGHWqWhGqQwH', 'ZFLFTmpLvvmSqsbb', 'TrfpBfJpJMlnnNfNZD', 'qHHlDClHhltMqQsHDhHslGznwdTnzzwDGSdfnwGnwG', 'mZRNcNcLLPNPBFFbbPmLmbZFSCVfJJTVndVfSwnRzznfTwCS', 'CcCWFbbBLCWtgWgHjghqvv', 'TjbzlnlFmfqCFFVVCRWr', 'PhMcLpPDtMLpwPDvLPJbMhSgVCGqggVqQgCqCgCgSWvv', 'btbZbNZhJDJJhDtwtsTTTmBzzBBmlNlmHj', 'FqhjWtqlqmmsnFPTCvMCQMTTCjQd', 'pfffRfLpgrgGgzrNVzzpGVzRCdMCPJbwwcVMbQPCJVMVdbww', 'DGGDZRGrHggzSsFQnnWShmtH', 'vtHVVMMrvVMVrSHvLgvlHcZFCnRCZcccZtRRZfJFCJ', 'rdDjGsdTQDcNZfdncCRR', 'rBDsTwBbjbmbbQswswPhqVmmSvpVhlvvqMhHhh', 'vGBLrqMNvqSLBvvrNbllLHfwStWWtFttccjtRtjtcj', 'MhCDJmhMDzmcRRcjzWfztH', 'ZQDmDhVVCQbBVdVNMvvv', 'ptCtCzhWPWptnhVzzpGZbZTjTjVjFGjVFgVl', 'fQswRRffmRqZlgrqqFjjSgGg', 'HwsQDNNsDsmRLLHmffsfvHptBnhtzCvhWpZWBdhnMdCh', 'RlHzzTqczBPfbnvcpB', 'wVtNwpSZstppwwMsZhsdnLvnbtBBmbnLFFdnmF', 'WNQJMVWsZWwGJWhhSNrQzlgHrDCgQRHpCHrl', 'RrZWpJZRrZpdTGstlchLGGlLMd', 'NqjDPCQPnQCSvtMzSLhhjM', 'nQVQDDDDfwBwNCVCNVFNpWpgJgrRTmLTmTmgRTWF', 'SHMcrMHpcjGcjSrMMbvSvvSvwFTLJwJNtFGFWJNtDLFTLfWN', 'zqRnPfzQCRzqsmRPzznhszzLtLwQwwFTgWWLDLgWFTwTNQ', 'qVPZmRZhsCZPhZlRCqRRRCbfpccMBjvMVjdHjjMjSvdf', 'VVQdHwBZLVltlddtBczhrzvGcWWFRwgsFG', 'TDTTTqqTSSqjqnmTmPqPPmTmGhRszvsrzsjRsccgzrRzgWGF', 'DpJPqpWqHbZpllpt', 'cCSCFsnnZFnscDtNdJFJtJtdmb', 'VgBqBsqRrHtNdzmNrt', 'BGLLVVjRBsqPBfsGwPsMfSSZCSfTZTZQpSphfS', 'plCHCHlgglHHGpNbtngNrDvBDpfQDBQfZDfWZVrr', 'mTmMLhRfwhsLPQvQZDMZQBQWMB', 'cwsssmqRTFFfFgtbCtGl', 'LQPPrCPnMZwqtRMn', 'cWTSlJWlcplJdDTdGdpDlGcGgqmtwwZtqRrNRRmRdNZqmgNq', 'GSJcJSjsjTpsvWGWBHLLvVVBBBrFrzVz', 'NVPCSPMNDSNFVSWCsJJJmpGmZZGLLcpZLHGGtsHt', 'fwzlBBqghqvzqqlDrHbpHjZHmGZbLZrHLb', 'dnBgnDqQvwRnSnnFMFMP', 'BCbPsFFwCRHmDSBmWnvDDj', 'phhZVzdpVfQZphhZpRhSVnjmrcvvnrWtDrvWDS', 'TfQJMfLphMhJdfdzpQJRTPbwHHNlgbGwsTGgCP', 'ttWLlnnvnNnBBtlTqWlpvpndQdZsQQFssFDdsRFdVdRNFQ', 'jSgrScrbGZSGrrCGsFVMssFsPPFcDDMV', 'bzSmJbfCZCbzLwllflwqtvvw', 'zmFTJwFLPmzLztmjDzTJwfNrdFNrFppBSNRGNGdbrpBR', 'gqlhWQgsZMsvqMlMMvsvqsNlLbcdppbrRpdbbcSrrbbr', 'vssCgVgCsggZQZCgsnsqWgWvfJPDLwffwTPPmzTnjTPmPmwJ', 'SpcRTPQLBLWpNNzjmmwwwRrR', 'tGlfvGhfnbDlbqlChnfFMrwsmwNssTMHMHjFwv', 'ZlhtCtffCdWcZWZVVT', 'jTTCcWHWJNgCGTzTmnzrmnGn', 'BwRRbFvtvvQmJJFMpMJr', 'ZBBwLvqbBZsRsbVsZSqbcZdJjHHjhfPCJfJfHhgc', 'VrnDSvvrLrfTdTLGfdRp', 'zcJzmcFcHGfdGmWTVd', 'tHsMhwPVctccHFHFcbSDbbPjnNbBnbvBQB', 'QttWQwLTnLnWTtnffnLQSBFVjNvBjBFNgMdCsVWsjv', 'pDqcmmRPHqgVBddjvN', 'DcclzbcbPbJLnNTfnw', 'plRcpsZDGlGZvWvMCNcLtttq', 'SrfrwSjSVrSjwbmSrHzmHJCQQPQzqttNNQJMzJtqMW', 'wSHVnfHfWwwHWFVfSnfgmmRsslFZZDBBGZsZsDTdGRTp', 'qSFQSgQNgQBrBHHcrW', 'VTmjVJLTwlTmwTVmsMJMVlJmPvcbvvbCBbGBPjGvBbBGWcbb', 'DnJTZwmnZRhnpqNdWt', 'dTVHjZLLZDVCfVHtLDDjQbscjWbSJMJPjsbWWb', 'FnqrnmzzFllmsWwtsFtQMMFc', 'lmqzzzngGmlNNBqGllzlBNRvptHHpTCHpDLpgDZdgvHvDD', 'sdRZQbCfZTSTdlfTZCffccWPHPPcPPwLwctRnLWn', 'BBJDzFVgCDrCJrqDJJhqJVVMLPHwcctFwcWHHGLcwGwGHnWc', 'ghpJgqqjCZbQdZpd', 'tbcpzbHSszcHBgqHGZgJJJhhww', 'jfvdvRTffQQrrFCRFTnGwJRqNRZVpJGZLZggLh', 'nQTjTnMndlTdQFMvnrClCnpzmzDtbbmBbcPSzzlmmtzP', 'BqBqTCSTcqHsJHHM', 'WWPGVPLtzVgWtjWPGzVjzVGcbDhPsRbDcsbJwNRswRDRss', 'VQfWjfLFGWLjdFfVzTZZpJTpnmlTrSQlBl', 'jLNsZjqSHCsGdsmpsm', 'MvnVFzWMwMVWzfnVDwfBMfnnrCtdtPmPlRrdrJCJrtPDrrPD', 'zznfFWwMfMfFMwVTMQFnQjhjgjSZhCNbLSTcHHgbbC', 'GGtssttVmvnnGNMQrrVzgwVrCWMz', 'FdhfhhcCDhHLfzclZMcrwcQMZM', 'HHqqCBhHSSpdmjGqmGjtjtjj', 'bbQLtGMQQtQRQtrDtGprrrbCqwplZhhqSqmdwvdzqqqhSmpS', 'FsJjJBfnsJcFcFfjVPjWBzldqhqnlZZZzzhmnSvSnm', 'JPcFfFWjFHJVVsVjPVscsDlLNRHGDbLRMRCDNrCGbG', 'JdMdlMRJnTwdvcjv', 'CDLHbNSzzLFgHvnTjrswBNBTNT', 'QgbvzSFQmZQPQQRW', 'NTBrNzrpjjjCwGbB', 'FRbQlcvFvcRQQlRsMlRRRZjwCqMwjmjwJZdLJmjCZC', 'cVPPQcvlWDNhrbPz', 'VdbVtbbZJdtJVVdDVZmTLqqTSQvNLjjDShhvSG', 'zplpnBnFpnrrlghGNpLNqHvqvjNj', 'cWncllnlPFWzcMwtWWtsVLVRmJWCds', 'ShLSTnZnTSttTSbLQdfSZTMwcDHwwcHnJvDHnlnlclMM', 'NmPMsssRrVwjDclHJwwR', 'gNNMWGzNmqGdtfZTbGGb', 'sWNNlRHnmJtmntJt', 'brbbBTbbFbCbqqGgBTrCfmQVVZfSSQQSVtJZSrVZ', 'bbFqvbDvvGGLGbCCtBGDLbLlcPNHhhccPNcdPPchlsdR', 'DCFvDvnCnNfMBmMMslDZML', 'SQQQJHwpSgJSJHQWSWHqJWWbmcBBBLLTsmhhTcZbMhmlshcb', 'RJRgpJHssgwSQHRqsQPGGjjtNCrrFvvnFjjPrP', 'mThmsgjzTPjMpcvtWP', 'GNNBVqVGNZbbNbNqqZQVNVNbWcpdtMCcpCtMWCdCPpQccmpp', 'VSmNrmmbBfZVlsrssrLTRhRhTn', 'TdmCvLDCpTRNTdFbbWnnSWCfhjbbzn', 'GrrMsPVGcQHBGMbhjjSgWfHHDbjb', 'BPBVqqrQPsQqwrrmmmJdRLDDqFRplT', 'fpDDJljDlCfDTjprjrfbddWthCSCtdPPQFhSSSWW', 'HsLZgMGbgBBsNzMvGbdVtVQzFRQSthhFPdtP', 'sMBmGBmbNvLHGMnrDppTcJmcjpqljf', 'ptSpSJQqpbNGGDDhcMWrlNHcZZWWls', 'zRLRRRjvvgjHMMsMpWpc', 'vmCPLCgwvwdnCzmvLbpTbVQqJJPbJPpTVq', 'TJCfhhJVFffrJJQQllNWcvWhwvWD', 'GPSGjjpLslBbpLpLqqqPDvdwvwvNzQWGzDDNdzGN', 'msbRjbpPqsRpHnlZrmJlnVHT', 'GGfFsCCTvGDsfTTrhsCMMzptZJMdpdgtrpdMcV', 'LBlwBHPSqjwwlVggHpnMZcVHMt', 'ZlZZlBbRPGGTGfmRsD', 'CtCjbVvzQQZTWVdd', 'MlSqWlmsmGBSHJHTDFHZ', 'pcqsmsplwsqclwRtRWgtRnPPvb', 'zCrzCrsdjrhGDCFqGDjRRPtpWfQQcpfQZcCZPp', 'VSVwVMgLHHLTwMDTMMVnbWPRZQRcRQPptWnpbZcb', 'MNBBBlSMvLVwTlVTFdNdhNhFsqsGDrzm', 'rBLWTwTThWwVVDTwHBsZZWppvpGtpptppmRvFFFMFMfL', 'qPPNCCbqcbcNqbqQjjJQqzjRpptmlpMGmMlJtftmtFHpMt', 'QnCgzzQbbQqPcPQnncbdQdnVTwDssZgrShBTVgZZsBSDHT', 'PFGJFqnfqmPgFJQPWdbLdpDRhbphWjDm', 'rclNHvcrzCNwrWRprjdMMMph', 'wsZHwZNvRRQsQqBV', 'LqlGCPlPLTCPqqQlpqLlWfBfWgcHNRJRfWNsncGH', 'VVtdwVtDDdVmhrdwSBmjbdzNHgfgJnNnsSnHsNffHgRsgR', 'wVzhbjmDbDrwjdbztFDDthMCvqPppZQBQLZQTqTvFTvZ', 'BnQnQFwRmRwmwdBSFDFnmSDVLCJTCTppVVmGLVTCLcgVpC', 'ZlWvhvZjNrbNvqjNhlfPfqjCGHrsspggTpVLpsJCpcJVgg', 'vPzNvqjWhqFzGSnRGMDG', 'wZnMZzzZZchDRtVsqtCtwV', 'WmWpWWmPPWrmrmBmWrTlTFPNVqVCRSDCQHcqVTtTqsSDSTSD', 'PrppdFlWWlfrWmpWFffrdcGjJJGggnnhZGdLLgGGndvz', 'FShHNmNhRhNJmBnQBQJrmP', 'VTgzDTjwfffwzDvwlcczzVSJbQlBQSWBWCnPJPbJWWbC', 'tzSVtzvSvGSRZqqFMNtpRR', 'hPZhGDZpnCGtDhznjmLmdJffdNzJ', 'glwsSrQwBvLdgLzdcj', 'QsRbHllzzlHwHlBszWlTBFbpDPMhbPDVGpGFpPtFPp', 'SRjStRDctgDSBzLvPvNrDhmPLr', 'QqTHGTPJmmHmhNmH', 'TGQZsTqFnQZCJTPsnJnZQMjVRBVtcVRSVRBlwccSCtBS', 'bbsNsvsvnNPTRRllbblLqhtQCqQSLCGGHSqHNC', 'wFpzFgqVzqVJWFDwqJDmSBBmHBHhShLQhCGSBCGH', 'MJVpFMqgwMqRRbZsMbZMrP', 'PPdDhvNDQdmgQPZmQVHHtHGGWVGbffWGvs', 'MMLCTRRLlLclTLRMRLCwMLHWVctbVVHWWWFfVjVGsFWW', 'MRSMMlpTJRqClBCRqBDnzqgQPnqgznZPZqbP', 'MrMNPNNpjvdprWtrpMsthqBfqlnfqcGhVBqFRcnqFG', 'QbDgSSQbgSDDmDVmlqSCRllRcFqnqfBl', 'QVJbVmwwDQbzVTgbppNJNMWNjNNPrdpM', 'WwJJNbtHfpLpVgZZPVFhZh', 'vmmqlDvRvRfqBSrlzmmMjRBhcVhQVZhVghCQQQQTcTrPTP', 'jSqMmqRzMDDjvqlBqsBMBmmwGNJwJnwLNfbGwddswnJtJH', 'RLgRmRggbvbzzPmmRNmzsQWFtSGNtwSNQnntFwnnCw', 'pDBrBHpHhlldphHBHhJVFSLnWWFJttCtQSttSS', 'hfHrpphHBppfTvmzgMmbLbgf']\n"
     ]
    }
   ],
   "source": [
    "letters = ['.', 'a', 'b', 'c', 'd', 'e', 'f', 'g', 'h', 'i', 'j', 'k', 'l', 'm', 'n', 'o', 'p', 'q', 'r', 's', 't', 'u', 'v', 'w', 'x', 'y', 'z', 'A', 'B', 'C', 'D', 'E', 'F', 'G', 'H', 'I', 'J', 'K', 'L', 'M', 'N', 'O', 'P', 'Q', 'R', 'S', 'T', 'U', 'V', 'W', 'X', 'Y', 'Z']\n",
    "\n",
    "with open('./input.txt', 'r') as f:\n",
    "    lines = f.read().splitlines()\n",
    "\n",
    "print(lines)"
   ]
  },
  {
   "cell_type": "code",
   "execution_count": 18,
   "metadata": {},
   "outputs": [],
   "source": [
    "lines = [\"vJrwpWtwJgWrhcsFMMfFFhFp\",\n",
    "\"jqHRNqRjqzjGDLGLrsFMfFZSrLrFZsSL\",\n",
    "\"PmmdzqPrVvPwwTWBwg\",\n",
    "\"wMqvLMZHhHMvwLHjbvcjnnSBnvTQFn\",\n",
    "\"ttgJtRGJQctTZtZT\",\n",
    "\"CrZsJsPPZsGzwwsLwLmpwMDw\"]\n"
   ]
  },
  {
   "cell_type": "code",
   "execution_count": 23,
   "metadata": {},
   "outputs": [
    {
     "name": "stdout",
     "output_type": "stream",
     "text": [
      "7824\n"
     ]
    }
   ],
   "source": [
    "# part one\n",
    "score = 0\n",
    "\n",
    "for a in lines:\n",
    "    length = len(a)\n",
    "    half = int(length / 2)\n",
    "    left = a[:half]\n",
    "    right = a[half:]\n",
    "    for b in left:\n",
    "        if b in right:\n",
    "            #print(a)\n",
    "            #print(b)\n",
    "            #print(letters.index(b))\n",
    "            score += letters.index(b)\n",
    "            break\n",
    "\n",
    "print(score)"
   ]
  }
 ],
 "metadata": {
  "kernelspec": {
   "display_name": "Python 3.11.0 64-bit",
   "language": "python",
   "name": "python3"
  },
  "language_info": {
   "codemirror_mode": {
    "name": "ipython",
    "version": 3
   },
   "file_extension": ".py",
   "mimetype": "text/x-python",
   "name": "python",
   "nbconvert_exporter": "python",
   "pygments_lexer": "ipython3",
   "version": "3.11.0"
  },
  "orig_nbformat": 4,
  "vscode": {
   "interpreter": {
    "hash": "e7370f93d1d0cde622a1f8e1c04877d8463912d04d973331ad4851f04de6915a"
   }
  }
 },
 "nbformat": 4,
 "nbformat_minor": 2
}
