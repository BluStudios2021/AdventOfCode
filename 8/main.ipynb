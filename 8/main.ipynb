{
 "cells": [
  {
   "cell_type": "code",
   "execution_count": 51,
   "metadata": {},
   "outputs": [
    {
     "name": "stdout",
     "output_type": "stream",
     "text": [
      "1662\n"
     ]
    }
   ],
   "source": [
    "with open(\"./input.txt\", \"r\") as f:\n",
    "    lines = f.read().splitlines()\n",
    "\n",
    "grid = []\n",
    "for line in lines:\n",
    "    row = []\n",
    "    for num in line:\n",
    "        row.append(int(num))\n",
    "    grid.append(row)"
   ]
  },
  {
   "cell_type": "code",
   "execution_count": 85,
   "metadata": {},
   "outputs": [
    {
     "name": "stdout",
     "output_type": "stream",
     "text": [
      "1662\n"
     ]
    }
   ],
   "source": [
    "# part one\n",
    "count = 2 * len(row) + 2 * len(grid) - 4\n",
    "\n",
    "x, y = 0, 0\n",
    "for row in grid:\n",
    "    if x == 0 or x == len(grid) - 1:\n",
    "        x += 1\n",
    "        continue\n",
    "    for tree in row:\n",
    "        if y == 0 or y == len(row) - 1:\n",
    "            y += 1\n",
    "            continue\n",
    "        # left\n",
    "        left = True\n",
    "        for a in row[:y][::-1]:\n",
    "            if a >= tree:\n",
    "                left = False\n",
    "        # right\n",
    "        right = True\n",
    "        for a in row[y+1:]:\n",
    "            if a >= tree:\n",
    "                right = False\n",
    "        # top\n",
    "        top = True\n",
    "        for a in grid[:x][::-1]:\n",
    "            if a[y] >= tree:\n",
    "                top = False\n",
    "        # bottom\n",
    "        bottom = True\n",
    "        for a in grid[x+1:]:\n",
    "            if a[y] >= tree:\n",
    "                bottom = False\n",
    "\n",
    "        if left or right or top or bottom:\n",
    "            count += 1\n",
    "        y += 1\n",
    "    y = 0\n",
    "    x += 1\n",
    "\n",
    "print(count)"
   ]
  },
  {
   "cell_type": "code",
   "execution_count": 88,
   "metadata": {},
   "outputs": [
    {
     "name": "stdout",
     "output_type": "stream",
     "text": [
      "537600\n"
     ]
    }
   ],
   "source": [
    "# part two\n",
    "highest = 0\n",
    "\n",
    "x, y = 0, 0\n",
    "\n",
    "for row in grid:\n",
    "    for tree in row:\n",
    "        view = 0\n",
    "        # left\n",
    "        left = 0\n",
    "        for a in row[:y][::-1]:\n",
    "            left += 1\n",
    "            if a >= tree:\n",
    "                break\n",
    "        # right\n",
    "        right = 0\n",
    "        for a in row[y+1:]:\n",
    "            right += 1\n",
    "            if a >= tree:\n",
    "                break\n",
    "        # top\n",
    "        top = 0\n",
    "        for a in grid[:x][::-1]:\n",
    "            top += 1\n",
    "            if a[y] >= tree:\n",
    "                break\n",
    "        # bottom\n",
    "        bottom = 0\n",
    "        for a in grid[x+1:]:\n",
    "            bottom += 1\n",
    "            if a[y] >= tree:\n",
    "                break\n",
    "        \n",
    "        view = left * right * top * bottom\n",
    "\n",
    "        if view > highest:\n",
    "            highest = view\n",
    "        y += 1\n",
    "    y = 0\n",
    "    x += 1\n",
    "    \n",
    "print(highest)"
   ]
  }
 ],
 "metadata": {
  "kernelspec": {
   "display_name": "Python 3",
   "language": "python",
   "name": "python3"
  },
  "language_info": {
   "codemirror_mode": {
    "name": "ipython",
    "version": 3
   },
   "file_extension": ".py",
   "mimetype": "text/x-python",
   "name": "python",
   "nbconvert_exporter": "python",
   "pygments_lexer": "ipython3",
   "version": "3.11.0"
  },
  "orig_nbformat": 4,
  "vscode": {
   "interpreter": {
    "hash": "e7370f93d1d0cde622a1f8e1c04877d8463912d04d973331ad4851f04de6915a"
   }
  }
 },
 "nbformat": 4,
 "nbformat_minor": 2
}
